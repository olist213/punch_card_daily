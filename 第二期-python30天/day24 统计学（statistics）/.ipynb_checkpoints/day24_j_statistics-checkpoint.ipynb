{
 "cells": [
  {
   "cell_type": "code",
   "execution_count": 13,
   "id": "0fa4b135",
   "metadata": {},
   "outputs": [],
   "source": [
    "# 安装anconda numpy"
   ]
  },
  {
   "cell_type": "code",
   "execution_count": 14,
   "id": "ee000d90",
   "metadata": {},
   "outputs": [],
   "source": [
    "# 导入numpy模块\n",
    "import numpy as np"
   ]
  },
  {
   "cell_type": "code",
   "execution_count": 15,
   "id": "bf92284f",
   "metadata": {},
   "outputs": [
    {
     "name": "stdout",
     "output_type": "stream",
     "text": [
      "numpy: 1.20.1\n"
     ]
    }
   ],
   "source": [
    "# 查看numpy的版本\n",
    "print('numpy:', np.__version__)"
   ]
  },
  {
   "cell_type": "code",
   "execution_count": 16,
   "id": "471b3d25",
   "metadata": {},
   "outputs": [
    {
     "name": "stdout",
     "output_type": "stream",
     "text": [
      "['ALLOW_THREADS', 'AxisError', 'BUFSIZE', 'Bytes0', 'CLIP', 'ComplexWarning', 'DataSource', 'Datetime64', 'ERR_CALL', 'ERR_DEFAULT', 'ERR_IGNORE', 'ERR_LOG', 'ERR_PRINT', 'ERR_RAISE', 'ERR_WARN', 'FLOATING_POINT_SUPPORT', 'FPE_DIVIDEBYZERO', 'FPE_INVALID', 'FPE_OVERFLOW', 'FPE_UNDERFLOW', 'False_', 'Inf', 'Infinity', 'MAXDIMS', 'MAY_SHARE_BOUNDS', 'MAY_SHARE_EXACT', 'MachAr', 'ModuleDeprecationWarning', 'NAN', 'NINF', 'NZERO', 'NaN', 'PINF', 'PZERO', 'RAISE', 'RankWarning', 'SHIFT_DIVIDEBYZERO', 'SHIFT_INVALID', 'SHIFT_OVERFLOW', 'SHIFT_UNDERFLOW', 'ScalarType', 'Str0', 'Tester', 'TooHardError', 'True_', 'UFUNC_BUFSIZE_DEFAULT', 'UFUNC_PYVALS_NAME', 'Uint64', 'VisibleDeprecationWarning', 'WRAP', '_NoValue', '_UFUNC_API', '__NUMPY_SETUP__', '__all__', '__builtins__', '__cached__', '__config__', '__deprecated_attrs__', '__dir__', '__doc__', '__expired_functions__', '__file__', '__getattr__', '__git_revision__', '__loader__', '__mkl_version__', '__name__', '__package__', '__path__', '__spec__', '__version__', '_add_newdoc_ufunc', '_distributor_init', '_financial_names', '_globals', '_mat', '_pytesttester', 'abs', 'absolute', 'add', 'add_docstring', 'add_newdoc', 'add_newdoc_ufunc', 'alen', 'all', 'allclose', 'alltrue', 'amax', 'amin', 'angle', 'any', 'append', 'apply_along_axis', 'apply_over_axes', 'arange', 'arccos', 'arccosh', 'arcsin', 'arcsinh', 'arctan', 'arctan2', 'arctanh', 'argmax', 'argmin', 'argpartition', 'argsort', 'argwhere', 'around', 'array', 'array2string', 'array_equal', 'array_equiv', 'array_repr', 'array_split', 'array_str', 'asanyarray', 'asarray', 'asarray_chkfinite', 'ascontiguousarray', 'asfarray', 'asfortranarray', 'asmatrix', 'asscalar', 'atleast_1d', 'atleast_2d', 'atleast_3d', 'average', 'bartlett', 'base_repr', 'binary_repr', 'bincount', 'bitwise_and', 'bitwise_not', 'bitwise_or', 'bitwise_xor', 'blackman', 'block', 'bmat', 'bool8', 'bool_', 'broadcast', 'broadcast_arrays', 'broadcast_shapes', 'broadcast_to', 'busday_count', 'busday_offset', 'busdaycalendar', 'byte', 'byte_bounds', 'bytes0', 'bytes_', 'c_', 'can_cast', 'cast', 'cbrt', 'cdouble', 'ceil', 'cfloat', 'char', 'character', 'chararray', 'choose', 'clip', 'clongdouble', 'clongfloat', 'column_stack', 'common_type', 'compare_chararrays', 'compat', 'complex128', 'complex256', 'complex64', 'complex_', 'complexfloating', 'compress', 'concatenate', 'conj', 'conjugate', 'convolve', 'copy', 'copysign', 'copyto', 'core', 'corrcoef', 'correlate', 'cos', 'cosh', 'count_nonzero', 'cov', 'cross', 'csingle', 'ctypeslib', 'cumprod', 'cumproduct', 'cumsum', 'datetime64', 'datetime_as_string', 'datetime_data', 'deg2rad', 'degrees', 'delete', 'deprecate', 'deprecate_with_doc', 'diag', 'diag_indices', 'diag_indices_from', 'diagflat', 'diagonal', 'diff', 'digitize', 'disp', 'divide', 'divmod', 'dot', 'double', 'dsplit', 'dstack', 'dtype', 'e', 'ediff1d', 'einsum', 'einsum_path', 'emath', 'empty', 'empty_like', 'equal', 'error_message', 'errstate', 'euler_gamma', 'exp', 'exp2', 'expand_dims', 'expm1', 'extract', 'eye', 'fabs', 'fastCopyAndTranspose', 'fft', 'fill_diagonal', 'find_common_type', 'finfo', 'fix', 'flatiter', 'flatnonzero', 'flexible', 'flip', 'fliplr', 'flipud', 'float128', 'float16', 'float32', 'float64', 'float_', 'float_power', 'floating', 'floor', 'floor_divide', 'fmax', 'fmin', 'fmod', 'format_float_positional', 'format_float_scientific', 'format_parser', 'frexp', 'frombuffer', 'fromfile', 'fromfunction', 'fromiter', 'frompyfunc', 'fromregex', 'fromstring', 'full', 'full_like', 'gcd', 'generic', 'genfromtxt', 'geomspace', 'get_array_wrap', 'get_include', 'get_printoptions', 'getbufsize', 'geterr', 'geterrcall', 'geterrobj', 'gradient', 'greater', 'greater_equal', 'half', 'hamming', 'hanning', 'heaviside', 'histogram', 'histogram2d', 'histogram_bin_edges', 'histogramdd', 'hsplit', 'hstack', 'hypot', 'i0', 'identity', 'iinfo', 'imag', 'in1d', 'index_exp', 'indices', 'inexact', 'inf', 'info', 'infty', 'inner', 'insert', 'int0', 'int16', 'int32', 'int64', 'int8', 'int_', 'intc', 'integer', 'interp', 'intersect1d', 'intp', 'invert', 'is_busday', 'isclose', 'iscomplex', 'iscomplexobj', 'isfinite', 'isfortran', 'isin', 'isinf', 'isnan', 'isnat', 'isneginf', 'isposinf', 'isreal', 'isrealobj', 'isscalar', 'issctype', 'issubclass_', 'issubdtype', 'issubsctype', 'iterable', 'ix_', 'kaiser', 'kron', 'lcm', 'ldexp', 'left_shift', 'less', 'less_equal', 'lexsort', 'lib', 'linalg', 'linspace', 'little_endian', 'load', 'loads', 'loadtxt', 'log', 'log10', 'log1p', 'log2', 'logaddexp', 'logaddexp2', 'logical_and', 'logical_not', 'logical_or', 'logical_xor', 'logspace', 'longcomplex', 'longdouble', 'longfloat', 'longlong', 'lookfor', 'ma', 'mafromtxt', 'mask_indices', 'mat', 'math', 'matmul', 'matrix', 'matrixlib', 'max', 'maximum', 'maximum_sctype', 'may_share_memory', 'mean', 'median', 'memmap', 'meshgrid', 'mgrid', 'min', 'min_scalar_type', 'minimum', 'mintypecode', 'mkl', 'mod', 'modf', 'moveaxis', 'msort', 'multiply', 'nan', 'nan_to_num', 'nanargmax', 'nanargmin', 'nancumprod', 'nancumsum', 'nanmax', 'nanmean', 'nanmedian', 'nanmin', 'nanpercentile', 'nanprod', 'nanquantile', 'nanstd', 'nansum', 'nanvar', 'nbytes', 'ndarray', 'ndenumerate', 'ndfromtxt', 'ndim', 'ndindex', 'nditer', 'negative', 'nested_iters', 'newaxis', 'nextafter', 'nonzero', 'not_equal', 'numarray', 'number', 'obj2sctype', 'object0', 'object_', 'ogrid', 'oldnumeric', 'ones', 'ones_like', 'os', 'outer', 'packbits', 'pad', 'partition', 'percentile', 'pi', 'piecewise', 'place', 'poly', 'poly1d', 'polyadd', 'polyder', 'polydiv', 'polyfit', 'polyint', 'polymul', 'polynomial', 'polysub', 'polyval', 'positive', 'power', 'printoptions', 'prod', 'product', 'promote_types', 'ptp', 'put', 'put_along_axis', 'putmask', 'quantile', 'r_', 'rad2deg', 'radians', 'random', 'ravel', 'ravel_multi_index', 'real', 'real_if_close', 'rec', 'recarray', 'recfromcsv', 'recfromtxt', 'reciprocal', 'record', 'remainder', 'repeat', 'require', 'reshape', 'resize', 'result_type', 'right_shift', 'rint', 'roll', 'rollaxis', 'roots', 'rot90', 'round', 'round_', 'row_stack', 's_', 'safe_eval', 'save', 'savetxt', 'savez', 'savez_compressed', 'sctype2char', 'sctypeDict', 'sctypes', 'searchsorted', 'select', 'set_numeric_ops', 'set_printoptions', 'set_string_function', 'setbufsize', 'setdiff1d', 'seterr', 'seterrcall', 'seterrobj', 'setxor1d', 'shape', 'shares_memory', 'short', 'show_config', 'sign', 'signbit', 'signedinteger', 'sin', 'sinc', 'single', 'singlecomplex', 'sinh', 'size', 'sometrue', 'sort', 'sort_complex', 'source', 'spacing', 'split', 'sqrt', 'square', 'squeeze', 'stack', 'std', 'str0', 'str_', 'string_', 'subtract', 'sum', 'swapaxes', 'sys', 'take', 'take_along_axis', 'tan', 'tanh', 'tensordot', 'test', 'testing', 'tile', 'timedelta64', 'trace', 'tracemalloc_domain', 'transpose', 'trapz', 'tri', 'tril', 'tril_indices', 'tril_indices_from', 'trim_zeros', 'triu', 'triu_indices', 'triu_indices_from', 'true_divide', 'trunc', 'typeDict', 'typecodes', 'typename', 'ubyte', 'ufunc', 'uint', 'uint0', 'uint16', 'uint32', 'uint64', 'uint8', 'uintc', 'uintp', 'ulonglong', 'unicode_', 'union1d', 'unique', 'unpackbits', 'unravel_index', 'unsignedinteger', 'unwrap', 'use_hugepage', 'ushort', 'vander', 'var', 'vdot', 'vectorize', 'version', 'void', 'void0', 'vsplit', 'vstack', 'w', 'warnings', 'where', 'who', 'zeros', 'zeros_like']\n"
     ]
    }
   ],
   "source": [
    "# 检查所有可用的方法\n",
    "print(dir(np))"
   ]
  },
  {
   "cell_type": "code",
   "execution_count": null,
   "id": "f96cee0a",
   "metadata": {},
   "outputs": [
    {
     "name": "stdout",
     "output_type": "stream",
     "text": [
      "0.3010299956639812\n",
      "False\n"
     ]
    }
   ],
   "source": [
    "print(np.log10(2))\n",
    "print(np.not_equal(10, 10))"
   ]
  },
  {
   "cell_type": "markdown",
   "id": "0303487a",
   "metadata": {},
   "source": [
    "# 创建numpy数组"
   ]
  },
  {
   "cell_type": "markdown",
   "id": "3ad0fe56",
   "metadata": {},
   "source": [
    "## 整型"
   ]
  },
  {
   "cell_type": "code",
   "execution_count": 28,
   "id": "df8721ce",
   "metadata": {},
   "outputs": [
    {
     "name": "stdout",
     "output_type": "stream",
     "text": [
      "Type <class 'list'>\n",
      "一维数组: [1, 2, 3, 4, 5]\n",
      "二维数组: [[0, 1, 2], [3, 4, 5], [6, 7, 8]]\n",
      "<class 'numpy.ndarray'>\n",
      "[1 2 3 4 5]\n"
     ]
    }
   ],
   "source": [
    "# 创建python列表\n",
    "python_list = [1,2,3,4,5]\n",
    "print(\"Type\", type(python_list)) # Type <class 'list'>\n",
    "\n",
    "print(\"一维数组:\",python_list)\n",
    "\n",
    "# 二维数组\n",
    "two_dimensional_list = [[0,1,2], [3,4,5], [6,7,8]]\n",
    "print(\"二维数组:\", two_dimensional_list)\n",
    "\n",
    "# 从Python列表创建Numpy(Numerical Python)数组\n",
    "\n",
    "numpy_array_from_list = np.array(python_list)\n",
    "print(type(numpy_array_from_list)) # <class 'numpy.ndarray'>\n",
    "print(numpy_array_from_list)"
   ]
  },
  {
   "cell_type": "markdown",
   "id": "98e5a5b2",
   "metadata": {},
   "source": [
    "## 浮点型\n",
    "\n",
    "从带有浮动数据类型参数的列表中创建一个浮动的numpy数组"
   ]
  },
  {
   "cell_type": "code",
   "execution_count": 32,
   "id": "d008fc75",
   "metadata": {},
   "outputs": [
    {
     "name": "stdout",
     "output_type": "stream",
     "text": [
      "[1. 2. 3. 4. 5.]\n"
     ]
    }
   ],
   "source": [
    "python_list = [1,2,3,4,5]\n",
    "\n",
    "numy_array_from_list2 = np.array(python_list, dtype=float)\n",
    "print(numy_array_from_list2)"
   ]
  },
  {
   "cell_type": "markdown",
   "id": "0fb4926f",
   "metadata": {},
   "source": [
    "## 布尔类型\n",
    "\n",
    "从列表中创建一个布尔值的数组"
   ]
  },
  {
   "cell_type": "code",
   "execution_count": 35,
   "id": "53cde3f8",
   "metadata": {},
   "outputs": [
    {
     "name": "stdout",
     "output_type": "stream",
     "text": [
      "[False  True  True False False]\n"
     ]
    }
   ],
   "source": [
    "numy_bool_array = np.array([0, 1, -1, 0, 0], dtype=bool)\n",
    "print(numy_bool_array)"
   ]
  },
  {
   "cell_type": "markdown",
   "id": "c62d0c70",
   "metadata": {},
   "source": [
    "## 使用numpy创建多维数组\n",
    "\n",
    "一个numpy数组可以有一个或多个行和列"
   ]
  },
  {
   "cell_type": "code",
   "execution_count": 37,
   "id": "60767cc7",
   "metadata": {},
   "outputs": [
    {
     "name": "stdout",
     "output_type": "stream",
     "text": [
      "<class 'numpy.ndarray'>\n",
      "[[0 1 2]\n",
      " [3 4 5]\n",
      " [6 7 8]]\n"
     ]
    }
   ],
   "source": [
    "two_dimensional_list = [[0,1,2], [3,4,5], [6,7,8]]\n",
    "numpy_two_dimensional_list = np.array(two_dimensional_list)\n",
    "print(type(numpy_two_dimensional_list))\n",
    "print(numpy_two_dimensional_list)"
   ]
  },
  {
   "cell_type": "markdown",
   "id": "a2773d66",
   "metadata": {},
   "source": [
    "## 将numpy数组转换为列表"
   ]
  },
  {
   "cell_type": "code",
   "execution_count": 40,
   "id": "d0cfee0d",
   "metadata": {},
   "outputs": [
    {
     "name": "stdout",
     "output_type": "stream",
     "text": [
      "<class 'list'>\n",
      "one dimensional array: [1, 2, 3, 4, 5]\n",
      "two dimensional array: [[0, 1, 2], [3, 4, 5], [6, 7, 8]]\n"
     ]
    }
   ],
   "source": [
    "np_to_list = numpy_array_from_list.tolist()\n",
    "print(type(np_to_list))\n",
    "print('one dimensional array:', np_to_list)\n",
    "print('two dimensional array:', numpy_two_dimensional_list.tolist())"
   ]
  },
  {
   "cell_type": "markdown",
   "id": "615dec77",
   "metadata": {},
   "source": [
    "## 从元组中创建numpy数组"
   ]
  },
  {
   "cell_type": "code",
   "execution_count": 44,
   "id": "4d6e708d",
   "metadata": {},
   "outputs": [
    {
     "name": "stdout",
     "output_type": "stream",
     "text": [
      "<class 'tuple'>\n",
      "元组： (1, 2, 3, 4, 5)\n",
      "<class 'numpy.ndarray'>\n",
      "numpy_array_from_tuple: [1 2 3 4 5]\n"
     ]
    }
   ],
   "source": [
    "python_tuple = (1,2,3,4,5)\n",
    "print(type(python_tuple))\n",
    "print(\"元组：\", python_tuple)\n",
    "\n",
    "numpy_array_from_tuple = np.array(python_tuple)\n",
    "print(type(numpy_array_from_tuple))\n",
    "print('numpy_array_from_tuple:', numpy_array_from_tuple) # numpy_array_from_tuple: [1 2 3 4 5]"
   ]
  },
  {
   "cell_type": "markdown",
   "id": "7bd3ab0b",
   "metadata": {},
   "source": [
    "### Shape of numpy array\n",
    "\n",
    "shape方法提供数组的形态为一个元组。第一个是行，第二个是列。如果数组是一维的，则返回数组的大小。"
   ]
  },
  {
   "cell_type": "code",
   "execution_count": 51,
   "id": "a06268e3",
   "metadata": {},
   "outputs": [
    {
     "name": "stdout",
     "output_type": "stream",
     "text": [
      "[1 2 3 4 5]\n",
      "shape of nums: (5,)\n",
      "[1 2 3 4 5]\n",
      "shape of numpy_two_dimensional_list: [[0 1 2]\n",
      " [3 4 5]\n",
      " [6 7 8]]\n",
      "three by four array shape: (3, 4)\n"
     ]
    }
   ],
   "source": [
    "nums = np.array([1,2,3,4,5])\n",
    "print(nums)\n",
    "print('shape of nums:', nums.shape)\n",
    "print(numpy_array_from_list)\n",
    "\n",
    "print('shape of numpy_two_dimensional_list:', numpy_two_dimensional_list)\n",
    "\n",
    "three_by_four_array = np.array([[0, 1, 2, 3],\n",
    "        [4,5,6,7],\n",
    "        [8,9,10, 11]])\n",
    "\n",
    "# 返回三行四列\n",
    "print(\"three by four array shape:\",three_by_four_array.shape)\n"
   ]
  },
  {
   "cell_type": "markdown",
   "id": "c35cc633",
   "metadata": {},
   "source": [
    "## numpy数组的数据类型\n",
    "\n",
    "数据类型：str, int, float, complex, bool, list, None"
   ]
  },
  {
   "cell_type": "code",
   "execution_count": 52,
   "id": "ac293981",
   "metadata": {},
   "outputs": [
    {
     "name": "stdout",
     "output_type": "stream",
     "text": [
      "[-3, -2, -1, 0, 1, 2, 3]\n",
      "int64\n",
      "[-3. -2. -1.  0.  1.  2.  3.]\n",
      "float64\n"
     ]
    }
   ],
   "source": [
    "int_lists = [-3,-2,-1,0,1,2,3]\n",
    "int_array = np.array(int_lists)\n",
    "float_array = np.array(int_lists, dtype=float)\n",
    "\n",
    "print(int_lists)\n",
    "print(int_array.dtype)\n",
    "print(float_array)\n",
    "print(float_array.dtype)"
   ]
  },
  {
   "cell_type": "markdown",
   "id": "d1d83f2d",
   "metadata": {},
   "source": [
    "## numpy中的size函数\n",
    "\n",
    "在numpy中，要知道一个numpy数组列表中的项目数，我们使用size"
   ]
  },
  {
   "cell_type": "code",
   "execution_count": 54,
   "id": "d2b990b5",
   "metadata": {},
   "outputs": [
    {
     "name": "stdout",
     "output_type": "stream",
     "text": [
      "the size: 5\n",
      "the size: 9\n"
     ]
    }
   ],
   "source": [
    "numpy_array_from_list = np.array([1,2,3,4,5])\n",
    "two_dimensional_list = np.array([[0,1,2],[3,4,5],[6,7,8]])\n",
    "\n",
    "print(\"the size:\", numpy_array_from_list.size)\n",
    "print(\"the size:\", two_dimensional_list.size)"
   ]
  },
  {
   "cell_type": "markdown",
   "id": "26d87b3f",
   "metadata": {},
   "source": [
    "# 使用numpy进行数学运算\n",
    "\n",
    "numpy数组和python列表并不完全一样，要在Python列表中进行数学运算，我们必须在这些项目中进行循环，但Numpy允许在不循环的情况下进行任何数学运算。\n",
    "\n",
    "数学操作：\n",
    "\n",
    "- 加法（+）\n",
    "- 减法（-）\n",
    "- 乘法（*）\n",
    "- 除法（/）\n",
    "- 求余（%）\n",
    "- Floor Division（//）\n",
    "- 求幂（**）\n",
    "\n",
    "## 加法（Addition）"
   ]
  },
  {
   "cell_type": "code",
   "execution_count": 58,
   "id": "8ab7b34d",
   "metadata": {},
   "outputs": [
    {
     "name": "stdout",
     "output_type": "stream",
     "text": [
      "original array:  [1 2 3 4 5]\n",
      "[11 12 13 14 15]\n"
     ]
    }
   ],
   "source": [
    "# 数字运算\n",
    "# addition\n",
    "numpy_array_from_list = np.array([1,2,3,4,5])\n",
    "print('original array: ', numpy_array_from_list)\n",
    "ten_plus_original = numpy_array_from_list + 10\n",
    "print(ten_plus_original)"
   ]
  },
  {
   "cell_type": "markdown",
   "id": "42088a4c",
   "metadata": {},
   "source": [
    "## 减法（subtraction）"
   ]
  },
  {
   "cell_type": "code",
   "execution_count": 59,
   "id": "ecf21ab6",
   "metadata": {},
   "outputs": [
    {
     "name": "stdout",
     "output_type": "stream",
     "text": [
      "original array:  [1 2 3 4 5]\n",
      "[-9 -8 -7 -6 -5]\n"
     ]
    }
   ],
   "source": [
    "# 数字运算\n",
    "# subtraction\n",
    "numpy_array_from_list = np.array([1,2,3,4,5])\n",
    "print('original array: ', numpy_array_from_list)\n",
    "ten_plus_original = numpy_array_from_list - 10\n",
    "print(ten_plus_original)"
   ]
  },
  {
   "cell_type": "markdown",
   "id": "d7ea00bc",
   "metadata": {},
   "source": [
    "## 乘法（multiplication）"
   ]
  },
  {
   "cell_type": "code",
   "execution_count": 61,
   "id": "5243d3a1",
   "metadata": {},
   "outputs": [
    {
     "name": "stdout",
     "output_type": "stream",
     "text": [
      "original array:  [1 2 3 4 5]\n",
      "[10 20 30 40 50]\n"
     ]
    }
   ],
   "source": [
    "# 乘法运算\n",
    "# multiplication\n",
    "\n",
    "numpy_array_from_list = np.array([1,2,3,4,5])\n",
    "print('original array: ', numpy_array_from_list)\n",
    "ten_plus_original = numpy_array_from_list * 10\n",
    "print(ten_plus_original)"
   ]
  },
  {
   "cell_type": "markdown",
   "id": "a2e36cd8",
   "metadata": {},
   "source": [
    "## 除法（division）"
   ]
  },
  {
   "cell_type": "code",
   "execution_count": 62,
   "id": "f0540f24",
   "metadata": {},
   "outputs": [
    {
     "name": "stdout",
     "output_type": "stream",
     "text": [
      "original array:  [1 2 3 4 5]\n",
      "[0.1 0.2 0.3 0.4 0.5]\n"
     ]
    }
   ],
   "source": [
    "# division\n",
    "\n",
    "numpy_array_from_list = np.array([1,2,3,4,5])\n",
    "print('original array: ', numpy_array_from_list)\n",
    "ten_plus_original = numpy_array_from_list / 10\n",
    "print(ten_plus_original)"
   ]
  },
  {
   "cell_type": "markdown",
   "id": "e6db07e1",
   "metadata": {},
   "source": [
    "## 求余（modulus）"
   ]
  },
  {
   "cell_type": "code",
   "execution_count": 64,
   "id": "77d3ceb1",
   "metadata": {},
   "outputs": [
    {
     "name": "stdout",
     "output_type": "stream",
     "text": [
      "original array:  [1 2 3 4 5]\n",
      "[1 2 0 1 2]\n"
     ]
    }
   ],
   "source": [
    "# modulus\n",
    "\n",
    "numpy_array_from_list = np.array([1,2,3,4,5])\n",
    "print('original array: ', numpy_array_from_list)\n",
    "ten_plus_original = numpy_array_from_list % 3\n",
    "print(ten_plus_original)"
   ]
  },
  {
   "cell_type": "markdown",
   "id": "61f8f0ea",
   "metadata": {},
   "source": [
    "## Floor Division"
   ]
  },
  {
   "cell_type": "code",
   "execution_count": 65,
   "id": "6b3f447b",
   "metadata": {},
   "outputs": [
    {
     "name": "stdout",
     "output_type": "stream",
     "text": [
      "original array:  [1 2 3 4 5]\n",
      "[0 0 0 0 0]\n"
     ]
    }
   ],
   "source": [
    "# Floor Division\n",
    "\n",
    "numpy_array_from_list = np.array([1,2,3,4,5])\n",
    "print('original array: ', numpy_array_from_list)\n",
    "ten_plus_original = numpy_array_from_list // 10\n",
    "print(ten_plus_original)"
   ]
  },
  {
   "cell_type": "markdown",
   "id": "c38bd694",
   "metadata": {},
   "source": [
    "## 指数"
   ]
  },
  {
   "cell_type": "code",
   "execution_count": 67,
   "id": "ef923b01",
   "metadata": {},
   "outputs": [
    {
     "name": "stdout",
     "output_type": "stream",
     "text": [
      "original array:  [1 2 3 4 5]\n",
      "[ 1  4  9 16 25]\n"
     ]
    }
   ],
   "source": [
    "# exponential\n",
    "\n",
    "numpy_array_from_list = np.array([1,2,3,4,5])\n",
    "print('original array: ', numpy_array_from_list)\n",
    "ten_plus_original = numpy_array_from_list ** 2\n",
    "print(ten_plus_original)"
   ]
  },
  {
   "cell_type": "markdown",
   "id": "a2184615",
   "metadata": {},
   "source": [
    "## 检查数据类型"
   ]
  },
  {
   "cell_type": "code",
   "execution_count": 72,
   "id": "f264da60",
   "metadata": {},
   "outputs": [
    {
     "name": "stdout",
     "output_type": "stream",
     "text": [
      "int64\n",
      "float64\n",
      "bool\n"
     ]
    }
   ],
   "source": [
    "# int, float numbers\n",
    "\n",
    "numpy_int_arr = np.array([1,2,3,4])\n",
    "numpy_float_arr = np.array([1.1, 2.0, 3.2])\n",
    "numpy_bool_arr = np.array([-3,-2,-1,0,1,2,3], dtype='bool')\n",
    "\n",
    "print(numpy_int_arr.dtype)\n",
    "print(numpy_float_arr.dtype)\n",
    "print(numpy_bool_arr.dtype)"
   ]
  },
  {
   "cell_type": "markdown",
   "id": "94bef345",
   "metadata": {},
   "source": [
    "## 类型转换\n",
    "\n",
    "我们可以转换numpy数组的数据类型"
   ]
  },
  {
   "cell_type": "markdown",
   "id": "9623a909",
   "metadata": {},
   "source": [
    "1、int to float"
   ]
  },
  {
   "cell_type": "code",
   "execution_count": 73,
   "id": "0026afb7",
   "metadata": {},
   "outputs": [
    {
     "data": {
      "text/plain": [
       "array([1., 2., 3., 4.])"
      ]
     },
     "execution_count": 73,
     "metadata": {},
     "output_type": "execute_result"
    }
   ],
   "source": [
    "numpy_int_arr = np.array([1,2,3,4], dtype='float')\n",
    "numpy_int_arr"
   ]
  },
  {
   "cell_type": "markdown",
   "id": "e89a83c0",
   "metadata": {},
   "source": [
    "2、float to int"
   ]
  },
  {
   "cell_type": "code",
   "execution_count": 74,
   "id": "576b0409",
   "metadata": {},
   "outputs": [
    {
     "data": {
      "text/plain": [
       "array([1., 2., 3., 4.])"
      ]
     },
     "execution_count": 74,
     "metadata": {},
     "output_type": "execute_result"
    }
   ],
   "source": [
    "numpy_float_arr = np.array([1., 2., 3., 4.], dtype='int')\n",
    "numpy_int_arr"
   ]
  },
  {
   "cell_type": "markdown",
   "id": "86d6ac6f",
   "metadata": {},
   "source": [
    "3、int to boolean"
   ]
  },
  {
   "cell_type": "code",
   "execution_count": 75,
   "id": "9764bc19",
   "metadata": {},
   "outputs": [
    {
     "data": {
      "text/plain": [
       "array([ True,  True,  True,  True])"
      ]
     },
     "execution_count": 75,
     "metadata": {},
     "output_type": "execute_result"
    }
   ],
   "source": [
    "numpy_int_arr = np.array([1,2,3,4], dtype='bool')\n",
    "numpy_int_arr"
   ]
  },
  {
   "cell_type": "markdown",
   "id": "456f644c",
   "metadata": {},
   "source": [
    "4、int to string"
   ]
  },
  {
   "cell_type": "code",
   "execution_count": 79,
   "id": "24d9e4e8",
   "metadata": {},
   "outputs": [
    {
     "data": {
      "text/plain": [
       "array(['1', '2', '3'], dtype='<U21')"
      ]
     },
     "execution_count": 79,
     "metadata": {},
     "output_type": "execute_result"
    }
   ],
   "source": [
    "numpy_float_list = np.array([1,2,3])\n",
    "numpy_float_list.astype('int').astype('str')"
   ]
  },
  {
   "cell_type": "markdown",
   "id": "19b52d6e",
   "metadata": {},
   "source": [
    "# 多维数组"
   ]
  },
  {
   "cell_type": "code",
   "execution_count": 84,
   "id": "d8160a00",
   "metadata": {},
   "outputs": [
    {
     "name": "stdout",
     "output_type": "stream",
     "text": [
      "<class 'numpy.ndarray'>\n",
      "[[1 2 3]\n",
      " [4 5 6]\n",
      " [7 8 9]]\n",
      "shape: (3, 3)\n",
      "size: 9\n",
      "data type: int64\n"
     ]
    }
   ],
   "source": [
    "# 二维数组\n",
    "\n",
    "tda = np.array([[1,2,3],[4,5,6],[7,8,9]])\n",
    "print(type(tda))\n",
    "print(tda)\n",
    "print('shape:', tda.shape)\n",
    "print('size:', tda.size)\n",
    "print('data type:',tda.dtype)"
   ]
  },
  {
   "cell_type": "markdown",
   "id": "0ea07710",
   "metadata": {},
   "source": [
    "## 从 numpy 数组中获取项目"
   ]
  },
  {
   "cell_type": "code",
   "execution_count": 85,
   "id": "ac99ec86",
   "metadata": {},
   "outputs": [
    {
     "name": "stdout",
     "output_type": "stream",
     "text": [
      "first_row: [1 2 3]\n",
      "second_row: [4 5 6]\n",
      "third_row: [7 8 9]\n"
     ]
    }
   ],
   "source": [
    "tda = np.array([[1,2,3],[4,5,6],[7,8,9]])\n",
    "first_row = tda[0]\n",
    "second_row = tda[1]\n",
    "third_row = tda[2]\n",
    "\n",
    "print('first_row:', first_row)\n",
    "print('second_row:', second_row)\n",
    "print('third_row:', third_row)"
   ]
  },
  {
   "cell_type": "code",
   "execution_count": 86,
   "id": "4880a76f",
   "metadata": {},
   "outputs": [
    {
     "name": "stdout",
     "output_type": "stream",
     "text": [
      "first_column: [1 4 7]\n",
      "second_column: [2 5 8]\n",
      "third_column: [3 6 9]\n"
     ]
    }
   ],
   "source": [
    "# 获取列\n",
    "first_column = tda[:,0]\n",
    "second_column = tda[:,1]\n",
    "third_column = tda[:,2]\n",
    "print('first_column:', first_column)\n",
    "print('second_column:', second_column)\n",
    "print('third_column:', third_column)"
   ]
  },
  {
   "cell_type": "markdown",
   "id": "569c67ea",
   "metadata": {},
   "source": [
    "# numpy数组切割\n",
    "\n",
    "在 numpy 中切片类似于在 python list 中切片"
   ]
  },
  {
   "cell_type": "code",
   "execution_count": 87,
   "id": "f1ecb24a",
   "metadata": {},
   "outputs": [
    {
     "name": "stdout",
     "output_type": "stream",
     "text": [
      "[[1 2]\n",
      " [4 5]]\n"
     ]
    }
   ],
   "source": [
    "tda = np.array([[1,2,3],[4,5,6],[7,8,9]])\n",
    "first_two_rows_and_columns = tda[0:2, 0:2]\n",
    "print(first_two_rows_and_columns)"
   ]
  },
  {
   "cell_type": "markdown",
   "id": "bdccf741",
   "metadata": {},
   "source": [
    "## 反转数组"
   ]
  },
  {
   "cell_type": "code",
   "execution_count": 90,
   "id": "84e92731",
   "metadata": {},
   "outputs": [
    {
     "data": {
      "text/plain": [
       "array([[1, 2, 3],\n",
       "       [4, 5, 6],\n",
       "       [7, 8, 9]])"
      ]
     },
     "execution_count": 90,
     "metadata": {},
     "output_type": "execute_result"
    }
   ],
   "source": [
    "tda = np.array([[1,2,3],[4,5,6],[7,8,9]])\n",
    "tda[::]"
   ]
  },
  {
   "cell_type": "markdown",
   "id": "1f8b15fb",
   "metadata": {},
   "source": [
    "## 反转行列位置"
   ]
  },
  {
   "cell_type": "code",
   "execution_count": 92,
   "id": "8d4f6887",
   "metadata": {},
   "outputs": [
    {
     "data": {
      "text/plain": [
       "array([[9, 8, 7],\n",
       "       [6, 5, 4],\n",
       "       [3, 2, 1]])"
      ]
     },
     "execution_count": 92,
     "metadata": {},
     "output_type": "execute_result"
    }
   ],
   "source": [
    "tda = np.array([[1,2,3],[4,5,6],[7,8,9]])\n",
    "tda[::-1, ::-1]"
   ]
  },
  {
   "cell_type": "markdown",
   "id": "0c9b8bea",
   "metadata": {},
   "source": [
    "## 缺失值如何表示"
   ]
  },
  {
   "cell_type": "code",
   "execution_count": 94,
   "id": "7024d703",
   "metadata": {},
   "outputs": [
    {
     "name": "stdout",
     "output_type": "stream",
     "text": [
      "[[1 2 3]\n",
      " [4 5 6]\n",
      " [7 8 9]]\n",
      "[[ 1  2  3]\n",
      " [ 4 55 44]\n",
      " [ 7  8  9]]\n"
     ]
    }
   ],
   "source": [
    "print(tda)\n",
    "tda[1,1] = 55\n",
    "tda[1,2] = 44\n",
    "print(tda)"
   ]
  },
  {
   "cell_type": "code",
   "execution_count": 95,
   "id": "00a549dc",
   "metadata": {},
   "outputs": [
    {
     "data": {
      "text/plain": [
       "array([[0, 0, 0],\n",
       "       [0, 0, 0],\n",
       "       [0, 0, 0]])"
      ]
     },
     "execution_count": 95,
     "metadata": {},
     "output_type": "execute_result"
    }
   ],
   "source": [
    "# numpy zeroes\n",
    "numpy.zeroes(shape, dtype=int, order='C')\n",
    "numpy_zeroes = np.zeros((3,3), dtype=int, order='C')\n",
    "numpy_zeroes"
   ]
  },
  {
   "cell_type": "code",
   "execution_count": 97,
   "id": "e546f4cd",
   "metadata": {},
   "outputs": [
    {
     "data": {
      "text/plain": [
       "array([[1, 1, 1],\n",
       "       [1, 1, 1],\n",
       "       [1, 1, 1]])"
      ]
     },
     "execution_count": 97,
     "metadata": {},
     "output_type": "execute_result"
    }
   ],
   "source": [
    "# numpy zeroes / np.ones\n",
    "numpy_one = np.ones((3,3), dtype=int, order='C')\n",
    "numpy_one"
   ]
  },
  {
   "cell_type": "code",
   "execution_count": 99,
   "id": "f24a28a1",
   "metadata": {},
   "outputs": [
    {
     "name": "stdout",
     "output_type": "stream",
     "text": [
      "[[1 2 3]\n",
      " [4 5 6]]\n",
      "[[1 2]\n",
      " [3 4]\n",
      " [5 6]]\n"
     ]
    }
   ],
   "source": [
    "# reshape\n",
    "# numpy.reshape(), numpy.flatten()\n",
    "first_shape = np.array([(1,2,3),(4,5,6)])\n",
    "print(first_shape)\n",
    "\n",
    "# 3行2列\n",
    "reshaped = first_shape.reshape(3,2)\n",
    "print(reshaped)"
   ]
  },
  {
   "cell_type": "code",
   "execution_count": 100,
   "id": "a13fca1a",
   "metadata": {},
   "outputs": [
    {
     "data": {
      "text/plain": [
       "array([1, 2, 3, 4, 5, 6])"
      ]
     },
     "execution_count": 100,
     "metadata": {},
     "output_type": "execute_result"
    }
   ],
   "source": [
    "flattened = reshaped.flatten()\n",
    "flattened"
   ]
  },
  {
   "cell_type": "code",
   "execution_count": 103,
   "id": "10270b93",
   "metadata": {},
   "outputs": [
    {
     "name": "stdout",
     "output_type": "stream",
     "text": [
      "数字相加： [5 7 9]\n",
      "横向追加: [1 2 3 4 5 6]\n"
     ]
    }
   ],
   "source": [
    "## 横向堆叠\n",
    "np_list_one = np.array([1,2,3])\n",
    "np_list_two = np.array([4,5,6])\n",
    "\n",
    "print('数字相加：', np_list_one + np_list_two) \n",
    "\n",
    "print('横向追加:', np.hstack((np_list_one, np_list_two)))"
   ]
  },
  {
   "cell_type": "code",
   "execution_count": 105,
   "id": "5141e61d",
   "metadata": {},
   "outputs": [
    {
     "name": "stdout",
     "output_type": "stream",
     "text": [
      "垂直堆叠： [[1 2 3]\n",
      " [4 5 6]]\n"
     ]
    }
   ],
   "source": [
    "# 垂直堆叠\n",
    "print('垂直堆叠：', np.vstack((np_list_one, np_list_two)))"
   ]
  },
  {
   "cell_type": "markdown",
   "id": "1e5d5ee5",
   "metadata": {},
   "source": [
    "## 生成随机值"
   ]
  },
  {
   "cell_type": "code",
   "execution_count": 106,
   "id": "ea66932e",
   "metadata": {},
   "outputs": [
    {
     "data": {
      "text/plain": [
       "0.2983437344217814"
      ]
     },
     "execution_count": 106,
     "metadata": {},
     "output_type": "execute_result"
    }
   ],
   "source": [
    "random_float = np.random.random()\n",
    "random_float"
   ]
  },
  {
   "cell_type": "code",
   "execution_count": 107,
   "id": "c8416e45",
   "metadata": {},
   "outputs": [
    {
     "data": {
      "text/plain": [
       "array([0.58447264, 0.09268617, 0.05962451, 0.52681534, 0.91868744])"
      ]
     },
     "execution_count": 107,
     "metadata": {},
     "output_type": "execute_result"
    }
   ],
   "source": [
    "random_float = np.random.random(5)\n",
    "random_float"
   ]
  },
  {
   "cell_type": "code",
   "execution_count": 108,
   "id": "f9292ceb",
   "metadata": {},
   "outputs": [
    {
     "data": {
      "text/plain": [
       "10"
      ]
     },
     "execution_count": 108,
     "metadata": {},
     "output_type": "execute_result"
    }
   ],
   "source": [
    "random_int = np.random.randint(0,11)\n",
    "random_int"
   ]
  },
  {
   "cell_type": "code",
   "execution_count": 109,
   "id": "9383796a",
   "metadata": {},
   "outputs": [
    {
     "data": {
      "text/plain": [
       "array([5, 8, 1, 7])"
      ]
     },
     "execution_count": 109,
     "metadata": {},
     "output_type": "execute_result"
    }
   ],
   "source": [
    "random_int = np.random.randint(0,11,size=4)\n",
    "random_int"
   ]
  },
  {
   "cell_type": "code",
   "execution_count": 110,
   "id": "799d11aa",
   "metadata": {},
   "outputs": [
    {
     "data": {
      "text/plain": [
       "array([[ 8,  8, 10],\n",
       "       [ 5,  0,  0],\n",
       "       [ 4,  8,  3]])"
      ]
     },
     "execution_count": 110,
     "metadata": {},
     "output_type": "execute_result"
    }
   ],
   "source": [
    "random_int = np.random.randint(0,11,size=(3,3))\n",
    "random_int"
   ]
  },
  {
   "cell_type": "code",
   "execution_count": 111,
   "id": "bab67abb",
   "metadata": {},
   "outputs": [
    {
     "data": {
      "text/plain": [
       "array([ 83.19903117,  59.63368129,  69.17096527,  80.40263531,\n",
       "        88.63864226,  51.5712526 ,  86.52300686,  89.36962489,\n",
       "        68.56418849,  93.27510641,  70.92278377,  92.01479522,\n",
       "        51.74756947,  87.93362466,  72.48617059,  60.84526958,\n",
       "        96.5392598 ,  71.67074606,  66.87280576,  69.06931539,\n",
       "        83.4003086 ,  76.92035773,  73.67147909,  58.61858504,\n",
       "        75.87383596, 113.80829588,  51.51356763,  97.15534482,\n",
       "       101.41696045,  90.186086  ,  78.24615789, 110.07214748,\n",
       "        68.85563481,  63.2678615 , 108.71514331,  73.29715618,\n",
       "        63.95012447,  68.97210619, 100.36994185,  80.18313117,\n",
       "        91.45750836, 100.10425547,  93.60962508,  73.38022639,\n",
       "        85.83078455,  40.59085414,  76.97181444,  51.26352096,\n",
       "        98.98393676,  79.5688702 ,  79.62919921,  71.02962442,\n",
       "        67.63837886,  68.14243163,  57.22335402,  66.56296899,\n",
       "        71.2985071 ,  59.12195316,  84.25542794,  89.17906356,\n",
       "        67.32130143, 121.95438552,  94.42879931,  92.647223  ,\n",
       "       101.88206589,  88.67151655,  70.93762596,  78.19494009,\n",
       "        87.19774666,  79.31827187,  94.25144327,  95.5720341 ,\n",
       "        92.21960418,  84.96369302,  62.76831728,  54.09455813,\n",
       "        79.36585364,  92.51170441,  87.33027325,  86.9191206 ])"
      ]
     },
     "execution_count": 111,
     "metadata": {},
     "output_type": "execute_result"
    }
   ],
   "source": [
    "#np.random.normal(mu,sigma,size)\n",
    "normal_array = np.random.normal(79,15,80)\n",
    "normal_array"
   ]
  },
  {
   "cell_type": "code",
   "execution_count": 114,
   "id": "55db1e30",
   "metadata": {},
   "outputs": [
    {
     "data": {
      "text/plain": [
       "(array([1., 0., 0., 0., 0., 0., 4., 0., 1., 0., 1., 3., 1., 2., 1., 1., 4.,\n",
       "        5., 4., 2., 3., 1., 2., 6., 2., 0., 3., 2., 4., 5., 1., 5., 3., 2.,\n",
       "        2., 1., 2., 2., 0., 0., 0., 1., 1., 0., 1., 0., 0., 0., 0., 1.]),\n",
       " array([ 40.59085414,  42.21812477,  43.84539539,  45.47266602,\n",
       "         47.09993665,  48.72720728,  50.3544779 ,  51.98174853,\n",
       "         53.60901916,  55.23628979,  56.86356042,  58.49083104,\n",
       "         60.11810167,  61.7453723 ,  63.37264293,  64.99991355,\n",
       "         66.62718418,  68.25445481,  69.88172544,  71.50899606,\n",
       "         73.13626669,  74.76353732,  76.39080795,  78.01807858,\n",
       "         79.6453492 ,  81.27261983,  82.89989046,  84.52716109,\n",
       "         86.15443171,  87.78170234,  89.40897297,  91.0362436 ,\n",
       "         92.66351423,  94.29078485,  95.91805548,  97.54532611,\n",
       "         99.17259674, 100.79986736, 102.42713799, 104.05440862,\n",
       "        105.68167925, 107.30894987, 108.9362205 , 110.56349113,\n",
       "        112.19076176, 113.81803239, 115.44530301, 117.07257364,\n",
       "        118.69984427, 120.3271149 , 121.95438552]),\n",
       " <BarContainer object of 50 artists>)"
      ]
     },
     "execution_count": 114,
     "metadata": {},
     "output_type": "execute_result"
    },
    {
     "data": {
      "image/png": "[encoded data removed]",
      "text/plain": [
       "<Figure size 432x288 with 1 Axes>"
      ]
     },
     "metadata": {},
     "output_type": "display_data"
    }
   ],
   "source": [
    "# numpy和统计学\n",
    "\n",
    "import matplotlib.pyplot as plt\n",
    "import seaborn as sns\n",
    "sns.set()\n",
    "plt.hist(normal_array, color='grey',bins=50)"
   ]
  },
  {
   "cell_type": "markdown",
   "id": "6cd25ba8",
   "metadata": {},
   "source": [
    "## numpy中的矩阵"
   ]
  },
  {
   "cell_type": "code",
   "execution_count": 115,
   "id": "c33c5e55",
   "metadata": {},
   "outputs": [
    {
     "data": {
      "text/plain": [
       "matrix([[1., 1., 1., 1.],\n",
       "        [1., 1., 1., 1.],\n",
       "        [1., 1., 1., 1.],\n",
       "        [1., 1., 1., 1.]])"
      ]
     },
     "execution_count": 115,
     "metadata": {},
     "output_type": "execute_result"
    }
   ],
   "source": [
    "four_by_four_matrix = np.matrix(np.ones((4,4), dtype=float))\n",
    "four_by_four_matrix"
   ]
  },
  {
   "cell_type": "code",
   "execution_count": 116,
   "id": "221ec871",
   "metadata": {},
   "outputs": [
    {
     "data": {
      "text/plain": [
       "matrix([[1., 1., 1., 1.],\n",
       "        [1., 1., 1., 1.],\n",
       "        [2., 2., 2., 2.],\n",
       "        [1., 1., 1., 1.]])"
      ]
     },
     "execution_count": 116,
     "metadata": {},
     "output_type": "execute_result"
    }
   ],
   "source": [
    "np.asarray(four_by_four_matrix)[2] = 2\n",
    "four_by_four_matrix"
   ]
  },
  {
   "cell_type": "markdown",
   "id": "caa0be6d",
   "metadata": {},
   "source": [
    "## Numpy numpy.arange()\n",
    "\n",
    "有时，你想在一个定义的区间内创建均匀分布的值。例如，你想创建从1到10的值；你可以使用numpy.range()函数"
   ]
  },
  {
   "cell_type": "code",
   "execution_count": 117,
   "id": "4a44ad56",
   "metadata": {},
   "outputs": [
    {
     "data": {
      "text/plain": [
       "range(0, 11, 2)"
      ]
     },
     "execution_count": 117,
     "metadata": {},
     "output_type": "execute_result"
    }
   ],
   "source": [
    "lst = range(0, 11, 2)\n",
    "lst"
   ]
  },
  {
   "cell_type": "code",
   "execution_count": 118,
   "id": "2d9ab49a",
   "metadata": {},
   "outputs": [
    {
     "name": "stdout",
     "output_type": "stream",
     "text": [
      "0\n",
      "2\n",
      "4\n",
      "6\n",
      "8\n",
      "10\n"
     ]
    }
   ],
   "source": [
    "for l in lst:\n",
    "    print(l)"
   ]
  },
  {
   "cell_type": "code",
   "execution_count": 119,
   "id": "11cbdc6f",
   "metadata": {},
   "outputs": [
    {
     "data": {
      "text/plain": [
       "array([ 0,  1,  2,  3,  4,  5,  6,  7,  8,  9, 10, 11, 12, 13, 14, 15, 16,\n",
       "       17, 18, 19])"
      ]
     },
     "execution_count": 119,
     "metadata": {},
     "output_type": "execute_result"
    }
   ],
   "source": [
    "# 类似于range\n",
    "\n",
    "whole_numbers = np.arange(0, 20, 1)\n",
    "whole_numbers"
   ]
  },
  {
   "cell_type": "code",
   "execution_count": 120,
   "id": "d56e0460",
   "metadata": {},
   "outputs": [
    {
     "data": {
      "text/plain": [
       "array([ 1,  2,  3,  4,  5,  6,  7,  8,  9, 10, 11, 12, 13, 14, 15, 16, 17,\n",
       "       18, 19])"
      ]
     },
     "execution_count": 120,
     "metadata": {},
     "output_type": "execute_result"
    }
   ],
   "source": [
    "natural_numbers = np.arange(1,20,1)\n",
    "natural_numbers"
   ]
  },
  {
   "cell_type": "code",
   "execution_count": 121,
   "id": "37c81daf",
   "metadata": {},
   "outputs": [
    {
     "data": {
      "text/plain": [
       "array([ 1,  3,  5,  7,  9, 11, 13, 15, 17, 19])"
      ]
     },
     "execution_count": 121,
     "metadata": {},
     "output_type": "execute_result"
    }
   ],
   "source": [
    "odd_numbers = np.arange(1,20,2)\n",
    "odd_numbers"
   ]
  },
  {
   "cell_type": "code",
   "execution_count": 122,
   "id": "efde7dd1",
   "metadata": {},
   "outputs": [
    {
     "data": {
      "text/plain": [
       "array([ 2,  4,  6,  8, 10, 12, 14, 16, 18])"
      ]
     },
     "execution_count": 122,
     "metadata": {},
     "output_type": "execute_result"
    }
   ],
   "source": [
    "even_numbers = np.arange(2,20,2)\n",
    "even_numbers"
   ]
  },
  {
   "cell_type": "markdown",
   "id": "41371d61",
   "metadata": {},
   "source": [
    "## 使用 linspace 创建数字序列"
   ]
  },
  {
   "cell_type": "code",
   "execution_count": 123,
   "id": "47d60c3d",
   "metadata": {},
   "outputs": [
    {
     "data": {
      "text/plain": [
       "array([1.        , 1.44444444, 1.88888889, 2.33333333, 2.77777778,\n",
       "       3.22222222, 3.66666667, 4.11111111, 4.55555556, 5.        ])"
      ]
     },
     "execution_count": 123,
     "metadata": {},
     "output_type": "execute_result"
    }
   ],
   "source": [
    "# numpy.linspace()\n",
    "# numpy.logspace()\n",
    "# 例如，它可以用来创建10个从1到5的间隔均匀的值。\n",
    "np.linspace(1.0, 5.0, num=10)"
   ]
  },
  {
   "cell_type": "code",
   "execution_count": 124,
   "id": "0c738464",
   "metadata": {},
   "outputs": [
    {
     "data": {
      "text/plain": [
       "array([1. , 1.8, 2.6, 3.4, 4.2])"
      ]
     },
     "execution_count": 124,
     "metadata": {},
     "output_type": "execute_result"
    }
   ],
   "source": [
    "# 不包括区间内的最后一个数值\n",
    "np.linspace(1.0, 5.0, num=5, endpoint=False)\n"
   ]
  },
  {
   "cell_type": "code",
   "execution_count": 126,
   "id": "122b485b",
   "metadata": {},
   "outputs": [
    {
     "data": {
      "text/plain": [
       "array([  100.        ,   464.15888336,  2154.43469003, 10000.        ])"
      ]
     },
     "execution_count": 126,
     "metadata": {},
     "output_type": "execute_result"
    }
   ],
   "source": [
    "#logspace\n",
    "#LogSpace在对数尺度上返回偶数间隔的数字。Logspace的参数与np.linspace相同。\n",
    "\n",
    "# 语法：\n",
    "# numpy.logspace(start, stop, num, endpoint)\n",
    "np.logspace(2,4.0, num=4)"
   ]
  },
  {
   "cell_type": "code",
   "execution_count": 131,
   "id": "3ac70dfc",
   "metadata": {},
   "outputs": [
    {
     "data": {
      "text/plain": [
       "array([1.+0.j, 2.+0.j, 3.+0.j])"
      ]
     },
     "execution_count": 131,
     "metadata": {},
     "output_type": "execute_result"
    }
   ],
   "source": [
    "# 检查数组的大小\n",
    "x = np.array([1,2,3],dtype=np.complex128)\n",
    "x"
   ]
  },
  {
   "cell_type": "code",
   "execution_count": 133,
   "id": "c5a4dc1d",
   "metadata": {},
   "outputs": [
    {
     "data": {
      "text/plain": [
       "16"
      ]
     },
     "execution_count": 133,
     "metadata": {},
     "output_type": "execute_result"
    }
   ],
   "source": [
    "x.itemsize"
   ]
  },
  {
   "cell_type": "code",
   "execution_count": 134,
   "id": "06533496",
   "metadata": {},
   "outputs": [
    {
     "data": {
      "text/plain": [
       "array([[1, 2, 3],\n",
       "       [4, 5, 6]])"
      ]
     },
     "execution_count": 134,
     "metadata": {},
     "output_type": "execute_result"
    }
   ],
   "source": [
    "# 在 Python 中索引和切片 NumPy 数组\n",
    "\n",
    "np_list = np.array([(1,2,3),(4,5,6)])\n",
    "np_list"
   ]
  },
  {
   "cell_type": "code",
   "execution_count": 136,
   "id": "9e1bf607",
   "metadata": {},
   "outputs": [
    {
     "name": "stdout",
     "output_type": "stream",
     "text": [
      "first_row:  [1 2 3]\n",
      "second_row:  [4 5 6]\n"
     ]
    }
   ],
   "source": [
    "print('first_row: ', np_list[0])\n",
    "print('second_row: ', np_list[1])"
   ]
  },
  {
   "cell_type": "code",
   "execution_count": 139,
   "id": "e586d4e1",
   "metadata": {},
   "outputs": [
    {
     "name": "stdout",
     "output_type": "stream",
     "text": [
      "First column:  [1 4]\n",
      "Second column:  [2 5]\n",
      "Third column:  [3 6]\n"
     ]
    }
   ],
   "source": [
    "print('First column: ', np_list[:,0])\n",
    "print('Second column: ', np_list[:,1])\n",
    "print('Third column: ', np_list[:,2])"
   ]
  },
  {
   "cell_type": "markdown",
   "id": "12ab1463",
   "metadata": {},
   "source": [
    "## NumPy 统计函数与示例\n",
    "\n",
    "NumPy有相当有用的统计函数，可以从数组中的给定元素中找到最小值、最大值、平均值、中位数、百分位数、标准差和方差等。这些函数解释如下 - 统计函数 Numpy配备了如下的稳健统计函数。\n",
    "- numpy functions\n",
    "    - min np.min()\n",
    "    - max np.max()\n",
    "    - mean np.mean()\n",
    "    - median np.median()\n",
    "    - varience\n",
    "    - percentile\n",
    "    - standard deviation np.std()"
   ]
  },
  {
   "cell_type": "code",
   "execution_count": 148,
   "id": "26d206d3",
   "metadata": {},
   "outputs": [
    {
     "name": "stdout",
     "output_type": "stream",
     "text": [
      "[5.40069439 4.9891574  5.08174899 4.66536406 5.30703819 4.90318528\n",
      " 5.16888856 5.28379575 4.87183425 4.65450338 5.31625803 5.00832082\n",
      " 4.40311252 5.50302573 4.68369118 4.74216108 5.29250223 5.22242669\n",
      " 5.09287511 5.44533262 5.71330926 4.47729414 4.61731424 6.46254818\n",
      " 5.02540384 5.10172617 5.36330832 5.48299832 5.64902699 5.47834226\n",
      " 5.20809687 4.1279842  5.27682715 4.86948666 3.76295512 4.49481907\n",
      " 5.89388217 4.72819393 5.32537583 5.56076133 4.84890803 4.94712458\n",
      " 4.81631549 5.32123747 5.64019682 4.56527347 5.07473534 4.84106536\n",
      " 4.71295032 4.35155314 4.17938514 6.11386561 6.10588881 4.81037217\n",
      " 4.73613725 5.037873   5.4856127  4.78944932 5.14331777 5.83902441\n",
      " 4.92231251 4.97201637 4.53727667 4.89290584 5.26771751 5.41976148\n",
      " 5.31762771 5.11129085 5.23229529 4.48071204 5.57625468 5.15374653\n",
      " 5.4065521  6.08900208 5.56972986 3.78421654 6.26963263 5.8613729\n",
      " 5.72970646 4.90040522 4.61607261 4.89243491 4.60374341 5.29582826\n",
      " 4.75602954 4.53534918 4.89020178 4.86942894 4.71120165 4.5327223\n",
      " 4.55040976 5.83090727 4.41939877 4.68161637 4.94810003 4.24378888\n",
      " 5.56886517 5.42104988 5.28358901 4.29719839]\n",
      "最小值min: 3.7629551196731863\n",
      "最大值max: 6.462548184866183\n",
      "平均值mean: 5.064583279095345\n",
      "标准差sd 0.5133828069882491\n"
     ]
    }
   ],
   "source": [
    "np_normal_dis = np.random.normal(5,0.5,100)\n",
    "print(np_normal_dis)\n",
    "\n",
    "print('最小值min:', np_normal_dis.min())\n",
    "print('最大值max:', np_normal_dis.max())\n",
    "print('平均值mean:',np_normal_dis.mean())\n",
    "# print('median:',np_normal_dis.median())\n",
    "print('标准差sd',np_normal_dis.std())"
   ]
  },
  {
   "cell_type": "code",
   "execution_count": 153,
   "id": "7ca4a4af",
   "metadata": {},
   "outputs": [
    {
     "name": "stdout",
     "output_type": "stream",
     "text": [
      "[[ 1  2  3]\n",
      " [ 4 55 44]\n",
      " [ 7  8  9]]\n",
      "Column with minimum:  [1 2 3]\n",
      "Column with maximum:  [ 7 55 44]\n",
      "=== Row ===\n",
      "Row with mininum:  [1 4 7]\n",
      "Row with maxinum:  [ 3 55  9]\n"
     ]
    }
   ],
   "source": [
    "print(tda)\n",
    "print('Column with minimum: ', np.amin(tda,axis=0))\n",
    "print('Column with maximum: ', np.amax(tda,axis=0))\n",
    "print('=== Row ===')\n",
    "print('Row with mininum: ', np.amin(tda,axis=1))\n",
    "print('Row with maxinum: ', np.amax(tda,axis=1))"
   ]
  },
  {
   "cell_type": "markdown",
   "id": "38eb3af7",
   "metadata": {},
   "source": [
    "## 如何创建重复序列？"
   ]
  },
  {
   "cell_type": "code",
   "execution_count": 155,
   "id": "10ce1e80",
   "metadata": {},
   "outputs": [
    {
     "name": "stdout",
     "output_type": "stream",
     "text": [
      "Title:    [1 2 3 1 2 3]\n",
      "Repeat:    [1 1 2 2 3 3]\n"
     ]
    }
   ],
   "source": [
    "a = [1,2,3]\n",
    "\n",
    "print('Title:   ', np.tile(a, 2))\n",
    "print('Repeat:   ', np.repeat(a,2))"
   ]
  },
  {
   "cell_type": "markdown",
   "id": "55bef3c4",
   "metadata": {},
   "source": [
    "## 生成随机值"
   ]
  },
  {
   "cell_type": "code",
   "execution_count": 156,
   "id": "875f6cf1",
   "metadata": {},
   "outputs": [
    {
     "name": "stdout",
     "output_type": "stream",
     "text": [
      "['o' 'u' 'e' 'i' 'i' 'e' 'i' 'e' 'i' 'u']\n"
     ]
    }
   ],
   "source": [
    "print(np.random.choice(['a','e','i','o','u'], size=10))"
   ]
  },
  {
   "cell_type": "code",
   "execution_count": 160,
   "id": "adba4eed",
   "metadata": {},
   "outputs": [
    {
     "data": {
      "text/plain": [
       "['oueiieieiu']"
      ]
     },
     "execution_count": 160,
     "metadata": {},
     "output_type": "execute_result"
    }
   ],
   "source": [
    "['o' 'u' 'e' 'i' 'i' 'e' 'i' 'e' 'i' 'u']"
   ]
  },
  {
   "cell_type": "code",
   "execution_count": 161,
   "id": "21b6a1ae",
   "metadata": {},
   "outputs": [
    {
     "data": {
      "text/plain": [
       "array([[0.24988398, 0.83514193],\n",
       "       [0.46487891, 0.61449852]])"
      ]
     },
     "execution_count": 161,
     "metadata": {},
     "output_type": "execute_result"
    }
   ],
   "source": [
    "rand = np.random.rand(2,2)\n",
    "rand"
   ]
  },
  {
   "cell_type": "code",
   "execution_count": 163,
   "id": "eaa0b3ee",
   "metadata": {},
   "outputs": [
    {
     "data": {
      "text/plain": [
       "array([[ 0.89169651, -0.42126557],\n",
       "       [-0.67453476,  1.0823018 ]])"
      ]
     },
     "execution_count": 163,
     "metadata": {},
     "output_type": "execute_result"
    }
   ],
   "source": [
    "rand2 = np.random.randn(2,2)\n",
    "rand2"
   ]
  },
  {
   "cell_type": "code",
   "execution_count": 165,
   "id": "fdeb4ee4",
   "metadata": {},
   "outputs": [
    {
     "data": {
      "text/plain": [
       "array([[7, 9, 2],\n",
       "       [0, 4, 0],\n",
       "       [6, 1, 7],\n",
       "       [7, 4, 6],\n",
       "       [2, 7, 7]])"
      ]
     },
     "execution_count": 165,
     "metadata": {},
     "output_type": "execute_result"
    }
   ],
   "source": [
    "# 5行3列 0-10\n",
    "rand_int = np.random.randint(0, 10, size=[5,3])\n",
    "rand_int"
   ]
  },
  {
   "cell_type": "code",
   "execution_count": 167,
   "id": "313cdaae",
   "metadata": {},
   "outputs": [
    {
     "data": {
      "text/plain": [
       "array([4.54738549, 6.08981068, 5.27563463, 4.84539799, 4.76009781,\n",
       "       4.66630651, 5.48530567, 4.99789906, 4.8850596 , 4.84084668,\n",
       "       5.22298169, 5.40667475, 5.47984879, 4.62516051, 4.85981875,\n",
       "       4.58182316, 5.39993546, 5.34114652, 4.98988423, 5.99393494,\n",
       "       5.19000467, 5.4285546 , 5.17806273, 5.36829107, 5.28953946,\n",
       "       4.67927299, 4.86153985, 5.00972491, 5.16869131, 4.74165135,\n",
       "       4.46374197, 4.94888021, 6.15158503, 5.24795152, 6.17626351,\n",
       "       5.59725871, 5.64898503, 4.56183341, 5.17497577, 5.25865075,\n",
       "       4.08106703, 4.02088353, 4.92926692, 5.39505909, 5.38066343,\n",
       "       4.68562644, 4.51954942, 6.11451021, 4.40490521, 4.32770534,\n",
       "       4.84278649, 5.22098902, 4.29458797, 5.89026798, 5.11337098,\n",
       "       5.80699579, 4.49545011, 4.76504016, 5.13319032, 4.64952652,\n",
       "       5.40286861, 5.54163653, 3.89322445, 5.75410828, 4.97226662,\n",
       "       4.56982558, 5.00525122, 4.19073203, 4.28367703, 4.92087063,\n",
       "       5.42929992, 5.61553311, 5.28334546, 5.42052965, 4.168875  ,\n",
       "       5.40154302, 5.94665167, 5.15778465, 6.29864994, 5.52357142,\n",
       "       4.31553888, 4.66542684, 5.05458882, 5.53760841, 4.52035427,\n",
       "       4.97732707, 4.97436698, 4.92635887, 5.53189592, 5.21560279,\n",
       "       5.03663768, 5.15468494, 4.35377791, 5.84592466, 4.92237065,\n",
       "       5.28075795, 4.30686056, 5.39772317, 5.29667922, 5.30146625,\n",
       "       4.88240556, 4.169157  , 5.15549273, 4.64060225, 5.23916923,\n",
       "       4.72244642, 5.72682297, 5.59647245, 4.84010202, 4.54882966,\n",
       "       5.95807691, 4.17615036, 4.01008791, 5.19482378, 4.69652322,\n",
       "       4.36838443, 4.93635232, 4.43790901, 4.54547463, 5.05674251,\n",
       "       5.53455135, 5.41525696, 5.15398163, 5.3476606 , 5.88886738,\n",
       "       4.58527097, 5.74514247, 5.49779938, 4.33456024, 5.38320652,\n",
       "       3.51632149, 5.03387097, 5.35228858, 4.32228106, 4.54118666,\n",
       "       4.80921319, 5.07071822, 5.24420516, 5.24060417, 5.0072688 ,\n",
       "       4.68742541, 4.96512125, 4.33460325, 4.82704221, 4.2350187 ,\n",
       "       5.0368428 , 4.75498874, 5.02524408, 4.41840494, 5.41240257,\n",
       "       4.47521359, 5.09896991, 4.5758495 , 4.63908685, 4.75964535,\n",
       "       5.08110325, 6.09262383, 4.97637097, 5.75198674, 4.93048954,\n",
       "       4.73122001, 4.76336635, 5.10583514, 4.53651039, 4.87852161,\n",
       "       4.18136316, 5.1115556 , 5.06985972, 3.72512346, 4.96300708,\n",
       "       5.04378594, 5.26114948, 5.20705867, 4.76313985, 5.20098103,\n",
       "       5.23613263, 4.57225378, 4.49173967, 5.13074565, 5.11139569,\n",
       "       5.36942909, 3.94976281, 5.4189113 , 4.59335585, 4.75804233,\n",
       "       5.27929212, 5.54684485, 4.97949268, 5.27441109, 5.0933793 ,\n",
       "       4.66507829, 4.18961929, 4.69302792, 5.22995345, 5.23930293,\n",
       "       4.30661442, 5.2829234 , 5.56398975, 5.40611228, 4.18080218,\n",
       "       4.43446466, 4.43069004, 4.69261833, 4.739849  , 4.42275074,\n",
       "       5.29079567, 4.85273281, 5.15637171, 4.41041685, 4.98349264,\n",
       "       4.9543042 , 5.08815023, 4.57139691, 5.60386033, 5.84374878,\n",
       "       5.04169248, 5.30041939, 4.50075266, 5.30792787, 5.37854017,\n",
       "       4.25471049, 4.21452779, 5.06524597, 5.395787  , 5.00380924,\n",
       "       5.102731  , 5.19063666, 5.00117152, 5.81754081, 4.63043713,\n",
       "       5.41051555, 6.02284146, 5.01883896, 5.70121832, 4.6110277 ,\n",
       "       4.09928303, 4.69428869, 4.68760255, 4.87741526, 5.07674532,\n",
       "       5.59077282, 5.58893205, 4.15312515, 5.19870849, 4.26433905,\n",
       "       4.40099281, 5.58225532, 4.68029256, 5.51125036, 4.51773747,\n",
       "       5.44106088, 4.23340218, 4.45530335, 4.98792826, 4.88416841,\n",
       "       5.58413073, 5.24171096, 5.40649128, 5.36396623, 5.93253668,\n",
       "       5.70488888, 5.19752579, 6.17428646, 5.93215463, 6.05470532,\n",
       "       5.83763905, 4.51705493, 4.69754434, 4.78542723, 5.77472251,\n",
       "       4.26263524, 4.70837794, 4.87121423, 4.58121019, 6.0324128 ,\n",
       "       5.41743765, 5.33104063, 4.75494808, 5.79331304, 4.84352377,\n",
       "       5.23876089, 4.00886951, 4.81360568, 4.87244017, 4.35416034,\n",
       "       4.88108754, 5.00820926, 5.30489331, 4.91830685, 5.50680374,\n",
       "       4.7180674 , 4.84607281, 4.84441796, 4.94289889, 4.98698132,\n",
       "       4.84546337, 4.76015277, 4.8815389 , 4.21209186, 5.17946961,\n",
       "       5.78765168, 4.95145892, 4.64391321, 4.70442348, 4.67290098,\n",
       "       5.41082866, 4.93623776, 4.76259561, 4.64132666, 4.99445515,\n",
       "       5.28021441, 4.83853589, 4.86605494, 4.97667803, 5.4410031 ,\n",
       "       4.71062852, 5.87105532, 5.24200053, 5.21506279, 5.07271043,\n",
       "       4.42066826, 4.75398665, 5.52636222, 5.7993481 , 5.19804087,\n",
       "       5.0211086 , 4.77290609, 4.97090949, 5.5025735 , 4.69229586,\n",
       "       5.80017562, 4.93424481, 4.95478352, 5.18641753, 4.57106781,\n",
       "       5.33180996, 4.99094918, 5.32214606, 4.46842168, 4.79796215,\n",
       "       4.75630772, 4.89992956, 4.93870242, 5.33810846, 4.66994361,\n",
       "       4.84392764, 4.86138508, 5.11061024, 5.34550962, 4.21737794,\n",
       "       4.99848721, 4.59230808, 4.89203994, 4.62194768, 5.39310242,\n",
       "       5.21462973, 5.15847648, 5.75742646, 4.89752464, 5.56990257,\n",
       "       4.64527535, 5.47380742, 5.69348092, 4.99198753, 5.04794234,\n",
       "       5.40527258, 5.63265831, 4.99804482, 4.57952624, 4.22982707,\n",
       "       5.42874322, 5.69423059, 4.82964686, 6.09440908, 4.7970321 ,\n",
       "       4.59671747, 4.06231275, 5.52270526, 4.32348798, 4.62323395,\n",
       "       4.40335161, 5.02346241, 5.66074655, 5.63809926, 4.54495299,\n",
       "       5.15027999, 5.30678797, 5.08317821, 5.18633524, 4.17117035,\n",
       "       4.67118762, 5.59115996, 4.80595614, 4.03384524, 5.45179136,\n",
       "       4.79489218, 5.57037434, 4.42443037, 4.98410419, 4.65149426,\n",
       "       4.64333401, 4.64528097, 5.72724257, 5.39895867, 4.9959702 ,\n",
       "       5.16390209, 5.72013928, 5.91901055, 4.26639805, 5.26930647,\n",
       "       5.24814139, 4.39139887, 5.3219204 , 5.16162698, 3.84594029,\n",
       "       5.41225437, 4.46387565, 5.15018051, 5.07985393, 5.78046865,\n",
       "       4.84372067, 5.2857838 , 5.04740992, 6.48890673, 4.76474061,\n",
       "       4.92550436, 5.46597841, 5.15940173, 4.8714571 , 4.63910745,\n",
       "       4.98135143, 4.92579908, 5.44771707, 5.07991723, 5.61432369,\n",
       "       5.08503822, 4.44068119, 5.59134526, 5.63879986, 4.18259593,\n",
       "       5.59723476, 4.15964756, 5.66036944, 5.20544502, 5.22695649,\n",
       "       5.22673769, 4.78428133, 5.01319598, 5.25861495, 4.81926508,\n",
       "       5.42449963, 4.87692216, 5.39408056, 5.00009748, 5.20617342,\n",
       "       4.55433235, 4.47520665, 4.76498592, 4.30827436, 4.90757214,\n",
       "       5.35997839, 4.10721271, 5.76839135, 4.96629594, 4.53030878,\n",
       "       6.04466854, 4.91190609, 4.70587149, 5.74755511, 5.67396757,\n",
       "       5.34275948, 5.30780827, 5.42072852, 5.45425403, 4.47875468,\n",
       "       4.98529299, 5.51186377, 4.24847556, 5.39105274, 5.11530358,\n",
       "       5.06808392, 5.02758871, 5.20244472, 5.26395587, 5.30092798,\n",
       "       5.45051502, 5.14556952, 4.55643583, 5.08871858, 5.40603958,\n",
       "       4.5708835 , 5.88209406, 5.79346507, 4.79605347, 5.44734476,\n",
       "       4.54638248, 4.72279098, 5.34918547, 4.51807358, 5.40614401,\n",
       "       4.26567606, 3.70146529, 4.93448018, 4.93027422, 4.7830303 ,\n",
       "       5.07133157, 3.86277   , 4.51309443, 5.02398342, 5.05120875,\n",
       "       5.13559337, 5.91721564, 5.4816082 , 6.03749765, 4.79322901,\n",
       "       4.90663731, 4.89250948, 4.43327774, 5.42486343, 5.44799535,\n",
       "       4.85357794, 5.12347319, 5.15212319, 4.20173588, 5.10950208,\n",
       "       4.57345653, 4.54155369, 5.22657037, 4.90684815, 4.87671029,\n",
       "       5.14540364, 4.35148584, 5.02328268, 4.86479937, 4.9784079 ,\n",
       "       5.29930671, 4.49048919, 4.80812405, 4.55188368, 4.77961244,\n",
       "       5.37742841, 5.89423131, 5.21908075, 4.88930289, 5.00917309,\n",
       "       5.74277965, 3.644896  , 4.84223765, 5.21666784, 4.68036433,\n",
       "       5.84840836, 4.92211896, 5.15979022, 5.2381078 , 4.68580862,\n",
       "       4.63132654, 4.6465186 , 5.56250052, 4.92909172, 4.0802777 ,\n",
       "       4.52244236, 5.09574442, 5.18587692, 4.83819056, 5.16866969,\n",
       "       4.92752013, 4.49236155, 4.41941292, 5.55900462, 5.74095206,\n",
       "       4.18291788, 5.3002057 , 5.75575417, 4.57378894, 4.63416613,\n",
       "       5.49323196, 4.20888206, 4.41551179, 5.02893825, 5.50996979,\n",
       "       4.21590494, 5.20842132, 4.62897421, 4.87320164, 5.10804207,\n",
       "       4.45848616, 3.97656591, 5.28916187, 4.51956252, 4.34053069,\n",
       "       5.38297953, 5.47699533, 4.46739947, 4.60764592, 5.17358485,\n",
       "       5.18973653, 5.14152362, 5.28215183, 5.20905296, 4.95121026,\n",
       "       4.44106298, 4.64858166, 4.92532386, 4.68215123, 4.70338472,\n",
       "       4.62053876, 4.76779249, 4.75154273, 4.56138922, 5.41234396,\n",
       "       4.8059991 , 5.58799808, 4.8155049 , 4.86367078, 5.13289493,\n",
       "       5.67341478, 5.62837475, 4.72980198, 5.0302431 , 5.25872134,\n",
       "       5.29789469, 4.29092382, 5.12753722, 5.96719033, 4.37377226,\n",
       "       5.36462912, 5.18342891, 4.78717203, 4.86821632, 5.09694763,\n",
       "       4.73401781, 5.20702235, 4.74166957, 3.87896655, 5.12607245,\n",
       "       4.67105758, 4.88736276, 5.26428362, 4.77363369, 5.26555844,\n",
       "       5.84887244, 5.1436653 , 5.38206419, 4.9501487 , 4.33298059,\n",
       "       4.3293507 , 4.58434005, 5.14774396, 4.93338774, 4.61277093,\n",
       "       4.7289329 , 4.85592318, 4.76161205, 3.94209929, 4.81266685,\n",
       "       3.99015393, 5.04870781, 4.84991173, 4.75020473, 4.74840604,\n",
       "       4.85246342, 5.07207441, 5.30515806, 5.03357979, 5.62813821,\n",
       "       4.77131146, 4.56074301, 5.12181462, 4.78370772, 4.43973493,\n",
       "       4.54322464, 5.28920174, 5.48527218, 4.90185073, 4.4002783 ,\n",
       "       4.70201997, 5.50234332, 4.74326073, 5.07898897, 4.65666343,\n",
       "       5.27765448, 4.05701312, 4.90386638, 4.71977143, 4.88884593,\n",
       "       4.3759107 , 4.65528698, 5.38322688, 5.65940587, 4.56589683,\n",
       "       5.05138064, 5.52871839, 4.24529464, 4.87912176, 4.62279444,\n",
       "       4.88639338, 5.19362465, 4.55099927, 5.7514832 , 4.89903301,\n",
       "       6.02109268, 4.9317888 , 5.2653271 , 4.1433888 , 4.50179832,\n",
       "       5.50996597, 6.36025998, 4.69363258, 5.82120327, 4.69943216,\n",
       "       4.51063375, 5.92386533, 5.85549838, 5.04576696, 4.3674409 ,\n",
       "       4.31373267, 4.96374694, 5.76885555, 5.46503359, 5.02191852,\n",
       "       4.70600925, 6.06191335, 5.5487088 , 5.91984489, 5.05993884,\n",
       "       4.8505539 , 6.15323424, 5.84688342, 5.20573678, 5.49196332,\n",
       "       5.42873446, 5.4773176 , 5.19115327, 5.74396202, 4.69523048,\n",
       "       4.98352613, 4.6332049 , 4.76443944, 4.92434556, 4.55378661,\n",
       "       5.15315613, 5.80313032, 4.50964708, 5.24723364, 5.55933373,\n",
       "       4.26588458, 4.78399717, 5.91623662, 4.93849828, 5.61438294,\n",
       "       5.79101019, 4.39879588, 4.37117639, 5.03988881, 5.84236327,\n",
       "       5.06448231, 4.14755569, 5.55202433, 4.87000651, 4.26594803,\n",
       "       4.35390619, 4.91836694, 5.08406266, 5.54108293, 5.22417105,\n",
       "       5.25947652, 5.36498287, 4.63499442, 5.54682422, 4.26906318,\n",
       "       4.82066893, 5.19170804, 4.29979205, 5.04110534, 4.87480418,\n",
       "       5.63480961, 4.34166874, 5.37477342, 4.57414913, 4.59232931,\n",
       "       4.93260991, 4.55324423, 5.4882235 , 5.53244932, 5.5663616 ,\n",
       "       4.40605912, 6.0357398 , 5.77432343, 4.56650293, 5.67215692,\n",
       "       5.13327514, 4.8113477 , 4.80945598, 5.2605745 , 5.13804973,\n",
       "       5.48018715, 4.62028255, 5.32411525, 4.98808038, 4.59530644,\n",
       "       4.77445467, 4.5991981 , 5.30381123, 4.18790866, 5.21812999,\n",
       "       6.40919738, 4.15272896, 4.62854548, 5.84530513, 5.14649596,\n",
       "       4.64732486, 5.05260435, 4.4209406 , 4.51882023, 5.63296735,\n",
       "       4.82260112, 4.91289196, 4.99931746, 5.37911499, 3.42875499,\n",
       "       5.80305481, 5.7715099 , 5.87905638, 5.14301715, 5.50150284,\n",
       "       5.15285293, 5.51892199, 4.5536021 , 5.25547388, 4.55505235,\n",
       "       5.29501796, 6.32301299, 5.02856812, 4.7900965 , 5.01894278,\n",
       "       4.36685281, 5.65783245, 4.21714527, 4.52739015, 5.60494629,\n",
       "       4.11531247, 5.42170284, 5.07622993, 5.38577188, 5.46817102,\n",
       "       5.25463121, 3.70351464, 5.90323675, 4.49232367, 4.847298  ,\n",
       "       5.21010922, 5.16400744, 5.06354767, 4.43093683, 4.44030273,\n",
       "       4.90531547, 5.55152464, 5.58426081, 5.12634353, 6.37932398,\n",
       "       4.56976702, 4.63355957, 4.43816464, 4.80057183, 3.9297236 ,\n",
       "       4.77895308, 4.87365154, 5.2851336 , 5.28246061, 4.43399998,\n",
       "       5.22765958, 4.45743759, 4.83042644, 4.88501607, 5.13512856,\n",
       "       4.24080123, 5.03457017, 4.99504193, 5.72947667, 5.82952092,\n",
       "       4.64703231, 4.13324587, 5.21738129, 5.86821777, 5.1108069 ,\n",
       "       3.70744416, 5.78312231, 5.30352827, 4.69542864, 5.66797213,\n",
       "       5.20337508, 4.69023965, 5.32458663, 5.0721412 , 5.09930225,\n",
       "       5.45637412, 5.49937481, 4.56019063, 4.65994907, 5.22725584,\n",
       "       5.60550124, 5.098143  , 5.94825166, 5.39006279, 4.70146542,\n",
       "       5.4265239 , 4.95896448, 4.75259192, 5.01502144, 4.92534374,\n",
       "       3.78568113, 4.73815581, 4.28430213, 4.21125845, 4.97246389,\n",
       "       4.28818178, 4.78117302, 5.28088728, 4.62763318, 4.65305225,\n",
       "       5.5167973 , 4.77738766, 4.2780051 , 5.5637271 , 4.36399134,\n",
       "       5.37267888, 4.93245539, 4.30045186, 5.02762126, 5.23208119,\n",
       "       4.13554724, 5.24008978, 5.10703131, 4.60604754, 4.79295639,\n",
       "       4.66343999, 5.02974307, 4.68770881, 5.00424751, 5.57117983,\n",
       "       4.85995128, 5.56260293, 4.6451744 , 5.95904246, 4.86840678,\n",
       "       5.30717602, 4.91187634, 6.06678151, 4.40221809, 4.25339126,\n",
       "       5.26041802, 5.41873142, 5.74012268, 5.28516916, 5.55211887,\n",
       "       5.46757501, 5.13509023, 6.22108802, 6.17988656, 4.36717637,\n",
       "       5.54664558, 5.64369163, 4.54800955, 5.13977046, 4.96699522,\n",
       "       5.05460274, 4.80660295, 5.13369573, 5.56569605, 3.81254081,\n",
       "       5.35016298, 5.25816727, 5.60634125, 5.15985659, 4.72652055,\n",
       "       5.04813475, 4.92089018, 5.16527452, 4.7917159 , 5.75375951,\n",
       "       4.9737711 , 4.85589856, 5.34906076, 4.41362739, 4.26291574,\n",
       "       5.0477099 , 4.46350383, 4.19815772, 4.70772247, 5.42311396,\n",
       "       5.31338953, 5.83795258, 4.63528539, 5.76897327, 5.24052498,\n",
       "       4.58987827, 4.64536032, 4.98548884, 4.91409671, 5.27040219])"
      ]
     },
     "execution_count": 167,
     "metadata": {},
     "output_type": "execute_result"
    }
   ],
   "source": [
    "from scipy import stats\n",
    "np_normal_dis = np.random.normal(5,0.5,1000)\n",
    "np_normal_dis"
   ]
  },
  {
   "cell_type": "code",
   "execution_count": 169,
   "id": "26f3f32c",
   "metadata": {},
   "outputs": [
    {
     "name": "stdout",
     "output_type": "stream",
     "text": [
      "min:  3.428754989000199\n",
      "max:  6.488906729753838\n",
      "mean:  5.0118057722929095\n",
      "median:  5.002490375892947\n",
      "mode:  ModeResult(mode=array([3.42875499]), count=array([1]))\n",
      "sd:  0.4999552535848896\n"
     ]
    }
   ],
   "source": [
    "print('min: ', np.min(np_normal_dis))\n",
    "print('max: ', np.max(np_normal_dis))\n",
    "print('mean: ', np.mean(np_normal_dis))\n",
    "print('median: ', np.median(np_normal_dis))\n",
    "print('mode: ', stats.mode(np_normal_dis))\n",
    "print('sd: ', np.std(np_normal_dis))"
   ]
  },
  {
   "cell_type": "code",
   "execution_count": 171,
   "id": "eda3049d",
   "metadata": {},
   "outputs": [
    {
     "data": {
      "image/png": "[encoded data removed]",
      "text/plain": [
       "<Figure size 432x288 with 1 Axes>"
      ]
     },
     "metadata": {},
     "output_type": "display_data"
    }
   ],
   "source": [
    "plt.hist(np_normal_dis, color=\"blue\", bins=21)\n",
    "plt.show()"
   ]
  },
  {
   "cell_type": "code",
   "execution_count": null,
   "id": "0925c2e6",
   "metadata": {},
   "outputs": [],
   "source": [
    "# numpy.dot(): 在Python中使用Numpy进行点乘\n",
    "# Dot Product\n",
    "# Numpy是一个强大的矩阵计算库。例如，你可以用np.dot计算点积\n",
    "# 语法：\n",
    "# numpy.dot(x, y, out=None)"
   ]
  },
  {
   "cell_type": "markdown",
   "id": "47bfc870",
   "metadata": {},
   "source": [
    "## 线性代数"
   ]
  },
  {
   "cell_type": "markdown",
   "id": "aaea284f",
   "metadata": {},
   "source": [
    "1、点乘"
   ]
  },
  {
   "cell_type": "code",
   "execution_count": 172,
   "id": "571ac6b0",
   "metadata": {},
   "outputs": [
    {
     "data": {
      "text/plain": [
       "23"
      ]
     },
     "execution_count": 172,
     "metadata": {},
     "output_type": "execute_result"
    }
   ],
   "source": [
    "f = np.array([1,2,3])\n",
    "g = np.array([4,5,3])\n",
    "\n",
    "# 1*4 + 2*5 + 3*3\n",
    "\n",
    "np.dot(f, g)"
   ]
  },
  {
   "cell_type": "markdown",
   "id": "fbbf45e9",
   "metadata": {},
   "source": [
    "## NumPy 矩阵乘法与 np.matmul()"
   ]
  },
  {
   "cell_type": "code",
   "execution_count": 173,
   "id": "6fbf2922",
   "metadata": {},
   "outputs": [
    {
     "data": {
      "text/plain": [
       "array([[19, 22],\n",
       "       [43, 50]])"
      ]
     },
     "execution_count": 173,
     "metadata": {},
     "output_type": "execute_result"
    }
   ],
   "source": [
    "### Matmul：两个数组的矩阵乘积\n",
    "h = [[1,2],[3,4]]\n",
    "i = [[5,6],[7,8]]\n",
    "np.matmul(h, i)"
   ]
  },
  {
   "cell_type": "code",
   "execution_count": 174,
   "id": "c00e71a2",
   "metadata": {},
   "outputs": [
    {
     "data": {
      "text/plain": [
       "-1.999999999999999"
      ]
     },
     "execution_count": 174,
     "metadata": {},
     "output_type": "execute_result"
    }
   ],
   "source": [
    "np.linalg.det(i)"
   ]
  },
  {
   "cell_type": "code",
   "execution_count": 176,
   "id": "4e445893",
   "metadata": {},
   "outputs": [
    {
     "data": {
      "text/plain": [
       "array([[0., 1., 0., 1., 0., 1., 0., 1.],\n",
       "       [1., 0., 1., 0., 1., 0., 1., 0.],\n",
       "       [0., 1., 0., 1., 0., 1., 0., 1.],\n",
       "       [1., 0., 1., 0., 1., 0., 1., 0.],\n",
       "       [0., 1., 0., 1., 0., 1., 0., 1.],\n",
       "       [1., 0., 1., 0., 1., 0., 1., 0.],\n",
       "       [0., 1., 0., 1., 0., 1., 0., 1.],\n",
       "       [1., 0., 1., 0., 1., 0., 1., 0.]])"
      ]
     },
     "execution_count": 176,
     "metadata": {},
     "output_type": "execute_result"
    }
   ],
   "source": [
    "Z = np.zeros((8,8))\n",
    "Z[1::2,::2] = 1\n",
    "Z[::2,1::2] = 1\n",
    "\n",
    "Z"
   ]
  },
  {
   "cell_type": "code",
   "execution_count": 179,
   "id": "8ab1b5dc",
   "metadata": {},
   "outputs": [
    {
     "data": {
      "text/plain": [
       "[2, 3, 4, 5, 6, 7, 8, 9, 10, 11]"
      ]
     },
     "execution_count": 179,
     "metadata": {},
     "output_type": "execute_result"
    }
   ],
   "source": [
    "new_list = [x + 2 for x in range(0,10)]\n",
    "new_list"
   ]
  },
  {
   "cell_type": "code",
   "execution_count": 181,
   "id": "6291af8c",
   "metadata": {},
   "outputs": [
    {
     "data": {
      "text/plain": [
       "array([ 2,  3,  4,  5,  6,  7,  8,  9, 10, 11, 12])"
      ]
     },
     "execution_count": 181,
     "metadata": {},
     "output_type": "execute_result"
    }
   ],
   "source": [
    "np_arr = np.array(range(0, 11))\n",
    "np_arr + 2"
   ]
  },
  {
   "cell_type": "markdown",
   "id": "a2b01f50",
   "metadata": {},
   "source": [
    "对于具有线性关系的量，我们使用线性方程。让我们看看下面的例子："
   ]
  },
  {
   "cell_type": "code",
   "execution_count": 182,
   "id": "dd31a886",
   "metadata": {},
   "outputs": [
    {
     "data": {
      "text/plain": [
       "array([ 7,  9, 11, 13, 15])"
      ]
     },
     "execution_count": 182,
     "metadata": {},
     "output_type": "execute_result"
    }
   ],
   "source": [
    "temp = np.array([1,2,3,4,5])\n",
    "pressure = temp * 2 + 5\n",
    "pressure"
   ]
  },
  {
   "cell_type": "code",
   "execution_count": 185,
   "id": "7abbe18a",
   "metadata": {},
   "outputs": [
    {
     "data": {
      "image/png": "[encoded data removed]",
      "text/plain": [
       "<Figure size 432x288 with 1 Axes>"
      ]
     },
     "metadata": {},
     "output_type": "display_data"
    }
   ],
   "source": [
    "plt.plot(temp, pressure)\n",
    "plt.xlabel('Temperature in oC')\n",
    "plt.ylabel('Pressure in atm')\n",
    "plt.title('Temperature vs Pressure')\n",
    "plt.xticks(np.arange(0,6,step=0.5))\n",
    "plt.show()"
   ]
  },
  {
   "cell_type": "markdown",
   "id": "75349a54",
   "metadata": {},
   "source": [
    "要用numpy画出高斯正态分布。正如你在下面看到的，numpy可以生成随机数。为了创建随机样本，我们需要mean(mu), sigma(standard deviation), mumber of data points。"
   ]
  },
  {
   "cell_type": "code",
   "execution_count": 189,
   "id": "28e33c0c",
   "metadata": {},
   "outputs": [
    {
     "data": {
      "image/png": "[encoded data removed]",
      "text/plain": [
       "<Figure size 360x360 with 1 Axes>"
      ]
     },
     "metadata": {},
     "output_type": "display_data"
    }
   ],
   "source": [
    "mu = 28\n",
    "sigma = 15\n",
    "samples = 100000\n",
    "\n",
    "x = np.random.normal(mu, sigma, samples)\n",
    "ax = sns.displot(x)\n",
    "ax.set(xlabel=\"x\", ylabel=\"y\")\n",
    "plt.show()"
   ]
  },
  {
   "cell_type": "markdown",
   "id": "f29d8e07",
   "metadata": {},
   "source": [
    "# 总结"
   ]
  },
  {
   "cell_type": "code",
   "execution_count": null,
   "id": "719b0366",
   "metadata": {},
   "outputs": [],
   "source": [
    "1、数组支持向量化操作，而列表不支持。\n",
    "2、一旦一个数组被创建，就不能改变它的大小，你将不得不创建一个新的数组或覆盖现有的数组。\n",
    "3、每个数组都有一个且只有一个dtype，其中的所有项目都应该是那个dtype。\n",
    "4、一个等价的numpy数组所占用的空间比一个python的列表要小得多。\n",
    "5、numpy数组支持布尔索引。"
   ]
  }
 ],
 "metadata": {
  "interpreter": {
   "hash": "b0fa6594d8f4cbf19f97940f81e996739fb7646882a419484c72d19e05852a7e"
  },
  "kernelspec": {
   "display_name": "Python 3",
   "language": "python",
   "name": "python3"
  },
  "language_info": {
   "codemirror_mode": {
    "name": "ipython",
    "version": 3
   },
   "file_extension": ".py",
   "mimetype": "text/x-python",
   "name": "python",
   "nbconvert_exporter": "python",
   "pygments_lexer": "ipython3",
   "version": "3.8.8"
  }
 },
 "nbformat": 4,
 "nbformat_minor": 5
}
