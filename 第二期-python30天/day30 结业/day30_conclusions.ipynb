{
 "cells": [
  {
   "cell_type": "markdown",
   "source": [
    "为期30天的python学习到这里就结束了，相信你已学习到了不少的pyhthon技巧。"
   ],
   "metadata": {}
  }
 ],
 "metadata": {
  "kernelspec": {
   "display_name": "Python 3",
   "language": "python",
   "name": "python3"
  },
  "language_info": {
   "codemirror_mode": {
    "name": "ipython",
    "version": 3
   },
   "file_extension": ".py",
   "mimetype": "text/x-python",
   "name": "python",
   "nbconvert_exporter": "python",
   "pygments_lexer": "ipython3",
   "version": "3.8.8"
  }
 },
 "nbformat": 4,
 "nbformat_minor": 5
}