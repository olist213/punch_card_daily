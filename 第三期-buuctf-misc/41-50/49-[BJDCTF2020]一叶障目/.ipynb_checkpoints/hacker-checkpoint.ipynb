{
 "cells": [
  {
   "cell_type": "code",
   "execution_count": 1,
   "id": "7b823e47-0c96-4390-8b9d-4ebb8c446782",
   "metadata": {},
   "outputs": [
    {
     "ename": "SyntaxError",
     "evalue": "invalid syntax (<ipython-input-1-b0e2ef053284>, line 12)",
     "output_type": "error",
     "traceback": [
      "\u001b[0;36m  File \u001b[0;32m\"<ipython-input-1-b0e2ef053284>\"\u001b[0;36m, line \u001b[0;32m12\u001b[0m\n\u001b[0;31m    if crc == bytes_to_long(img[29:33])\u001b[0m\n\u001b[0m                                       ^\u001b[0m\n\u001b[0;31mSyntaxError\u001b[0m\u001b[0;31m:\u001b[0m invalid syntax\n"
     ]
    }
   ],
   "source": [
    "\n",
    "import struct\n",
    "import binascii\n",
    "\n",
    "from Crypto.Util.number import bytes_to_long\n",
    "\n",
    "img = open(\"./1.png\",\"rb\",).read()\n",
    "\n",
    "for i in range(0xFFFF):\n",
    "    stream = img[12:20] + struct.pack('>i',i) + img[24:29]\n",
    "    crc = binascii.crc32(stream)\n",
    "    \n",
    "    if crc == bytes_to_long(img[29:33]):\n",
    "        print(i,hex(i))\n",
    "\n"
   ]
  }
 ],
 "metadata": {
  "kernelspec": {
   "display_name": "Python 3",
   "language": "python",
   "name": "python3"
  },
  "language_info": {
   "codemirror_mode": {
    "name": "ipython",
    "version": 3
   },
   "file_extension": ".py",
   "mimetype": "text/x-python",
   "name": "python",
   "nbconvert_exporter": "python",
   "pygments_lexer": "ipython3",
   "version": "3.8.8"
  }
 },
 "nbformat": 4,
 "nbformat_minor": 5
}
