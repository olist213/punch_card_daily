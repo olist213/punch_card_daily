{
 "cells": [
  {
   "cell_type": "code",
   "execution_count": null,
   "id": "af300913-5b68-44fc-b882-cdb681c25345",
   "metadata": {},
   "outputs": [],
   "source": [
    "# -*- coding: utf-8 -*-\n",
    "# @Time    : 2019-10-23 15:14\n",
    "# @Author  : 凉城LcMui\n",
    "# @File    : pcapzip.py.py\n",
    "\n",
    "\n",
    "content = \"504b0304140001000000828b884b51b70c88340000002800000008000000666c61672e7478744311ff8f9d8b066353fba88d4a85c44561ce76ff0bccc32665244bf5e2322514d724e1cf2c14ac3dae4abfd13170cdc370343602504b01023f00140001000000828b884b51b70c883400000028000000080024000000000000002000000000000000666c61672e7478740a00200000000000010018004afe20d90670d30109f36f320470d30109f36f320470d301504b050600000000010001005a0000005a000000160077656c6c2c796f75206e6565642070617373776421007c3c2d\"\n",
    "\n",
    "x = bytes.fromhex(content)\n",
    "f = open(\"./1111.zip\",'wb')\n",
    "f.write(x)\n",
    "f.close()"
   ]
  }
 ],
 "metadata": {
  "kernelspec": {
   "display_name": "Python 3",
   "language": "python",
   "name": "python3"
  },
  "language_info": {
   "codemirror_mode": {
    "name": "ipython",
    "version": 3
   },
   "file_extension": ".py",
   "mimetype": "text/x-python",
   "name": "python",
   "nbconvert_exporter": "python",
   "pygments_lexer": "ipython3",
   "version": "3.8.8"
  }
 },
 "nbformat": 4,
 "nbformat_minor": 5
}
