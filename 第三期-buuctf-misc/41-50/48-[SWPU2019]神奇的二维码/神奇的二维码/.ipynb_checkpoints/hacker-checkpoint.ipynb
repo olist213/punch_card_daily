{
 "cells": [
  {
   "cell_type": "code",
   "execution_count": 4,
   "id": "a4d0dec7-f659-4eb8-b6c3-b0a830208c3a",
   "metadata": {},
   "outputs": [
    {
     "name": "stdout",
     "output_type": "stream",
     "text": [
      "comEON_YOuAreSOSoS0great\n"
     ]
    }
   ],
   "source": [
    "import base64\n",
    "\n",
    "with open(\"./123.txt\") as f:\n",
    "    ss = f.readline()\n",
    "    \n",
    "    for i in range(0,20):\n",
    "        ss = base64.b64decode(ss)\n",
    "    \n",
    "    print(ss.decode())\n",
    "        \n",
    "        "
   ]
  }
 ],
 "metadata": {
  "kernelspec": {
   "display_name": "Python 3",
   "language": "python",
   "name": "python3"
  },
  "language_info": {
   "codemirror_mode": {
    "name": "ipython",
    "version": 3
   },
   "file_extension": ".py",
   "mimetype": "text/x-python",
   "name": "python",
   "nbconvert_exporter": "python",
   "pygments_lexer": "ipython3",
   "version": "3.8.8"
  }
 },
 "nbformat": 4,
 "nbformat_minor": 5
}
