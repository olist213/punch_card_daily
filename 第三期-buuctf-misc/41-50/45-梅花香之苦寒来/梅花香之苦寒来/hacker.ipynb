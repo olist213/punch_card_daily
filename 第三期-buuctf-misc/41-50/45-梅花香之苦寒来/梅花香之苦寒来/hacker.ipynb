{
 "cells": [
  {
   "cell_type": "code",
   "execution_count": 2,
   "id": "9ac25a6b-6870-45c2-8909-0d940adafef1",
   "metadata": {},
   "outputs": [],
   "source": [
    "\n",
    "from PIL import Image\n",
    "\n",
    "d = open(\"./123.txt\")\n",
    "\n",
    "w = 280\n",
    "h = 280 \n",
    "\n",
    "img = Image.new('RGB',(w,h),(255,255,255))\n",
    "\n",
    "while True:\n",
    "    s = d.readline()\n",
    "    if not s:\n",
    "        break\n",
    "    x = int(s.split(',')[0][1:])\n",
    "    y = int(s.split(',')[1][:-2])\n",
    "    img.putpixel((x,y),(0,0,0))\n",
    "    \n",
    "img.show()\n",
    "img.save(\"./hacker.png\")\n",
    "    \n"
   ]
  },
  {
   "cell_type": "code",
   "execution_count": 3,
   "id": "39af9942-2880-49a3-838e-84c232a4bc48",
   "metadata": {},
   "outputs": [
    {
     "name": "stdout",
     "output_type": "stream",
     "text": [
      "270 155\n",
      "270 156\n",
      "270 172\n",
      "270 173\n",
      "270 174\n",
      "270 175\n",
      "270 17\n"
     ]
    }
   ],
   "source": [
    "\n",
    "from PIL import Image\n",
    "\n",
    "d = open(\"./test.txt\")\n",
    "\n",
    "w = 280\n",
    "h = 280 \n",
    "\n",
    "img = Image.new('RGB',(w,h),(255,255,255))\n",
    "\n",
    "while True:\n",
    "    s = d.readline()\n",
    "    if not s:\n",
    "        break\n",
    "    x = int(s.split(',')[0][1:])\n",
    "    y = int(s.split(',')[1][:-2])\n",
    "    print(x,y)\n",
    "    \n"
   ]
  }
 ],
 "metadata": {
  "kernelspec": {
   "display_name": "Python 3",
   "language": "python",
   "name": "python3"
  },
  "language_info": {
   "codemirror_mode": {
    "name": "ipython",
    "version": 3
   },
   "file_extension": ".py",
   "mimetype": "text/x-python",
   "name": "python",
   "nbconvert_exporter": "python",
   "pygments_lexer": "ipython3",
   "version": "3.8.8"
  }
 },
 "nbformat": 4,
 "nbformat_minor": 5
}
